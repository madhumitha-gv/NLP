{
  "nbformat": 4,
  "nbformat_minor": 0,
  "metadata": {
    "colab": {
      "provenance": [],
      "authorship_tag": "ABX9TyNUYnJa2C/QWDV2s6Kxp+50",
      "include_colab_link": true
    },
    "kernelspec": {
      "name": "python3",
      "display_name": "Python 3"
    },
    "language_info": {
      "name": "python"
    }
  },
  "cells": [
    {
      "cell_type": "markdown",
      "metadata": {
        "id": "view-in-github",
        "colab_type": "text"
      },
      "source": [
        "<a href=\"https://colab.research.google.com/github/madhumitha-gv/NLP/blob/main/nlp_basics.ipynb\" target=\"_parent\"><img src=\"https://colab.research.google.com/assets/colab-badge.svg\" alt=\"Open In Colab\"/></a>"
      ]
    },
    {
      "cell_type": "code",
      "execution_count": null,
      "metadata": {
        "colab": {
          "base_uri": "https://localhost:8080/"
        },
        "id": "QU2C2LVaWcZW",
        "outputId": "b2f4988a-733a-47af-84f3-d01cd499a0e2"
      },
      "outputs": [
        {
          "output_type": "stream",
          "name": "stdout",
          "text": [
            "Requirement already satisfied: nltk in /usr/local/lib/python3.11/dist-packages (3.9.1)\n",
            "Requirement already satisfied: click in /usr/local/lib/python3.11/dist-packages (from nltk) (8.2.1)\n",
            "Requirement already satisfied: joblib in /usr/local/lib/python3.11/dist-packages (from nltk) (1.5.1)\n",
            "Requirement already satisfied: regex>=2021.8.3 in /usr/local/lib/python3.11/dist-packages (from nltk) (2024.11.6)\n",
            "Requirement already satisfied: tqdm in /usr/local/lib/python3.11/dist-packages (from nltk) (4.67.1)\n"
          ]
        }
      ],
      "source": [
        "!pip install nltk"
      ]
    },
    {
      "cell_type": "code",
      "source": [
        "paragraph=\"\"\"\n",
        "Avul Pakir Jainulabdeen Abdul Kalam was an Indian aerospace scientist and statesman who served as the president of India from 2002 to 2007.\n",
        "\n",
        "Born and raised in a Muslim family in Rameswaram, Tamil Nadu, Kalam studied physics and aerospace engineering. He spent the next four decades as a scientist and science administrator, mainly at the Defence Research and Development Organisation (DRDO) and Indian Space Research Organisation (ISRO) and was intimately involved in India's civilian space programme and military missile development efforts. He was known as the \"Missile Man of India\" for his work on the development of ballistic missile and launch vehicle technology. He also played a pivotal organisational, technical, and political role in Pokhran-II nuclear tests in 1998, India's second such test after the first test in 1974.\n",
        "\n",
        "Kalam was elected as the president of India in 2002 with the support of both the ruling Bharatiya Janata Party and the then-opposition Indian National Congress. He was widely referred to as the \"People's President\". He engaged in teaching, writing and public service after his presidency. He was a recipient of several awards, including the Bharat Ratna, India's highest civilian honour.\n",
        "\n",
        "While delivering a lecture at IIM Shillong, Kalam collapsed and died from an apparent cardiac arrest on 27 July 2015, aged 83. Thousands attended the funeral ceremony held in his hometown of Rameswaram, where he was buried with full state honours. A memorial was inaugurated near his home town in 2017.\n",
        "\n",
        "\"\"\""
      ],
      "metadata": {
        "id": "6IrCdxGbWfJY"
      },
      "execution_count": null,
      "outputs": []
    },
    {
      "cell_type": "code",
      "source": [
        "paragraph"
      ],
      "metadata": {
        "colab": {
          "base_uri": "https://localhost:8080/",
          "height": 143
        },
        "id": "u-1y89nUW-MH",
        "outputId": "afe5f20a-ea4a-41cb-d195-5bc0bb57bfc4"
      },
      "execution_count": null,
      "outputs": [
        {
          "output_type": "execute_result",
          "data": {
            "text/plain": [
              "'\\nAvul Pakir Jainulabdeen Abdul Kalam was an Indian aerospace scientist and statesman who served as the president of India from 2002 to 2007.\\n\\nBorn and raised in a Muslim family in Rameswaram, Tamil Nadu, Kalam studied physics and aerospace engineering. He spent the next four decades as a scientist and science administrator, mainly at the Defence Research and Development Organisation (DRDO) and Indian Space Research Organisation (ISRO) and was intimately involved in India\\'s civilian space programme and military missile development efforts. He was known as the \"Missile Man of India\" for his work on the development of ballistic missile and launch vehicle technology. He also played a pivotal organisational, technical, and political role in Pokhran-II nuclear tests in 1998, India\\'s second such test after the first test in 1974.\\n\\nKalam was elected as the president of India in 2002 with the support of both the ruling Bharatiya Janata Party and the then-opposition Indian National Congress. He was widely referred to as the \"People\\'s President\". He engaged in teaching, writing and public service after his presidency. He was a recipient of several awards, including the Bharat Ratna, India\\'s highest civilian honour.\\n\\nWhile delivering a lecture at IIM Shillong, Kalam collapsed and died from an apparent cardiac arrest on 27 July 2015, aged 83. Thousands attended the funeral ceremony held in his hometown of Rameswaram, where he was buried with full state honours. A memorial was inaugurated near his home town in 2017.\\n\\n'"
            ],
            "application/vnd.google.colaboratory.intrinsic+json": {
              "type": "string"
            }
          },
          "metadata": {},
          "execution_count": 6
        }
      ]
    },
    {
      "cell_type": "code",
      "source": [
        "!pip install PorterStemmer"
      ],
      "metadata": {
        "colab": {
          "base_uri": "https://localhost:8080/"
        },
        "id": "g20OP-e6XbTe",
        "outputId": "ddc6c42c-3174-47c2-d55a-48a026cc8f6e"
      },
      "execution_count": null,
      "outputs": [
        {
          "output_type": "stream",
          "name": "stdout",
          "text": [
            "Collecting PorterStemmer\n",
            "  Downloading PorterStemmer-0.5.tar.gz (5.7 kB)\n",
            "  Preparing metadata (setup.py) ... \u001b[?25l\u001b[?25hdone\n",
            "Building wheels for collected packages: PorterStemmer\n",
            "  Building wheel for PorterStemmer (setup.py) ... \u001b[?25l\u001b[?25hdone\n",
            "  Created wheel for PorterStemmer: filename=PorterStemmer-0.5-cp311-cp311-linux_x86_64.whl size=22567 sha256=876bce439030d57540af07732d25bc0c59c58bd47f9254c156ceb3771b132003\n",
            "  Stored in directory: /root/.cache/pip/wheels/fd/ab/9e/9e9ffa09a53e5d2ebbf73d6cbe17261232efabcaea580dea97\n",
            "Successfully built PorterStemmer\n",
            "Installing collected packages: PorterStemmer\n",
            "Successfully installed PorterStemmer-0.5\n"
          ]
        }
      ]
    },
    {
      "cell_type": "code",
      "source": [
        "import nltk\n",
        "from nltk.stem import PorterStemmer\n",
        "from nltk.corpus import stopwords"
      ],
      "metadata": {
        "id": "VtrWpnioXMc1"
      },
      "execution_count": null,
      "outputs": []
    },
    {
      "cell_type": "markdown",
      "source": [
        "## tokenization- converts paragraphs into sentences and into words"
      ],
      "metadata": {
        "id": "N7FcD1QbXq1O"
      }
    },
    {
      "cell_type": "code",
      "source": [
        "nltk.download('punkt_tab')"
      ],
      "metadata": {
        "colab": {
          "base_uri": "https://localhost:8080/"
        },
        "id": "nzYKiuJkXXKq",
        "outputId": "621e0f47-88b9-4f97-a09d-f4aea64b7a95"
      },
      "execution_count": null,
      "outputs": [
        {
          "output_type": "stream",
          "name": "stderr",
          "text": [
            "[nltk_data] Downloading package punkt_tab to /root/nltk_data...\n",
            "[nltk_data]   Unzipping tokenizers/punkt_tab.zip.\n"
          ]
        },
        {
          "output_type": "execute_result",
          "data": {
            "text/plain": [
              "True"
            ]
          },
          "metadata": {},
          "execution_count": 9
        }
      ]
    },
    {
      "cell_type": "code",
      "source": [
        "from nltk.tokenize import sent_tokenize\n",
        "sentences=nltk.sent_tokenize(paragraph)"
      ],
      "metadata": {
        "id": "YmepjV9IX3kZ"
      },
      "execution_count": null,
      "outputs": []
    },
    {
      "cell_type": "code",
      "source": [
        "print(sentences)"
      ],
      "metadata": {
        "colab": {
          "base_uri": "https://localhost:8080/"
        },
        "id": "LCP-rbxlYUa4",
        "outputId": "ca950750-2abc-49b6-96db-c791866db575"
      },
      "execution_count": null,
      "outputs": [
        {
          "output_type": "stream",
          "name": "stdout",
          "text": [
            "['\\nAvul Pakir Jainulabdeen Abdul Kalam was an Indian aerospace scientist and statesman who served as the president of India from 2002 to 2007.', 'Born and raised in a Muslim family in Rameswaram, Tamil Nadu, Kalam studied physics and aerospace engineering.', \"He spent the next four decades as a scientist and science administrator, mainly at the Defence Research and Development Organisation (DRDO) and Indian Space Research Organisation (ISRO) and was intimately involved in India's civilian space programme and military missile development efforts.\", 'He was known as the \"Missile Man of India\" for his work on the development of ballistic missile and launch vehicle technology.', \"He also played a pivotal organisational, technical, and political role in Pokhran-II nuclear tests in 1998, India's second such test after the first test in 1974.\", 'Kalam was elected as the president of India in 2002 with the support of both the ruling Bharatiya Janata Party and the then-opposition Indian National Congress.', 'He was widely referred to as the \"People\\'s President\".', 'He engaged in teaching, writing and public service after his presidency.', \"He was a recipient of several awards, including the Bharat Ratna, India's highest civilian honour.\", 'While delivering a lecture at IIM Shillong, Kalam collapsed and died from an apparent cardiac arrest on 27 July 2015, aged 83.', 'Thousands attended the funeral ceremony held in his hometown of Rameswaram, where he was buried with full state honours.', 'A memorial was inaugurated near his home town in 2017.']\n"
          ]
        }
      ]
    },
    {
      "cell_type": "markdown",
      "source": [
        "# Stemming"
      ],
      "metadata": {
        "id": "7igRTtpzZLXf"
      }
    },
    {
      "cell_type": "code",
      "source": [
        "stemmer=PorterStemmer()"
      ],
      "metadata": {
        "id": "XoCJTDWlYiqg"
      },
      "execution_count": null,
      "outputs": []
    },
    {
      "cell_type": "code",
      "source": [
        "stemmer.stem('mainly') # check the stemming of the words"
      ],
      "metadata": {
        "colab": {
          "base_uri": "https://localhost:8080/",
          "height": 35
        },
        "id": "8aboPYjJY4Lq",
        "outputId": "3e1489c8-1f2c-4ccf-dc62-57c67e55ef5e"
      },
      "execution_count": null,
      "outputs": [
        {
          "output_type": "execute_result",
          "data": {
            "text/plain": [
              "'mainli'"
            ],
            "application/vnd.google.colaboratory.intrinsic+json": {
              "type": "string"
            }
          },
          "metadata": {},
          "execution_count": 13
        }
      ]
    },
    {
      "cell_type": "markdown",
      "source": [
        "# Lemmatization"
      ],
      "metadata": {
        "id": "vF37dM07ZID2"
      }
    },
    {
      "cell_type": "code",
      "source": [
        "import nltk\n",
        "nltk.download('wordnet')\n",
        "nltk.download('omw-1.4')"
      ],
      "metadata": {
        "colab": {
          "base_uri": "https://localhost:8080/"
        },
        "id": "rbfFlSVHZbGD",
        "outputId": "12387044-1756-4756-e574-e1248cb06906"
      },
      "execution_count": null,
      "outputs": [
        {
          "output_type": "stream",
          "name": "stderr",
          "text": [
            "[nltk_data] Downloading package wordnet to /root/nltk_data...\n",
            "[nltk_data] Downloading package omw-1.4 to /root/nltk_data...\n"
          ]
        },
        {
          "output_type": "execute_result",
          "data": {
            "text/plain": [
              "True"
            ]
          },
          "metadata": {},
          "execution_count": 14
        }
      ]
    },
    {
      "cell_type": "code",
      "source": [
        "from nltk.stem import WordNetLemmatizer"
      ],
      "metadata": {
        "id": "xmUZLqgFZBC-"
      },
      "execution_count": null,
      "outputs": []
    },
    {
      "cell_type": "code",
      "source": [
        "lemmatizer=WordNetLemmatizer()"
      ],
      "metadata": {
        "id": "q4bBnTI_ZSfM"
      },
      "execution_count": null,
      "outputs": []
    },
    {
      "cell_type": "code",
      "source": [
        "lemmatizer.lemmatize('goes')"
      ],
      "metadata": {
        "colab": {
          "base_uri": "https://localhost:8080/",
          "height": 35
        },
        "id": "GMJLVS-9ZVHH",
        "outputId": "2063fcfe-cc24-429b-cf45-0576a97fb220"
      },
      "execution_count": null,
      "outputs": [
        {
          "output_type": "execute_result",
          "data": {
            "text/plain": [
              "'go'"
            ],
            "application/vnd.google.colaboratory.intrinsic+json": {
              "type": "string"
            }
          },
          "metadata": {},
          "execution_count": 17
        }
      ]
    },
    {
      "cell_type": "code",
      "source": [
        "import re"
      ],
      "metadata": {
        "id": "QEtshKEiaKe2"
      },
      "execution_count": null,
      "outputs": []
    },
    {
      "cell_type": "code",
      "source": [
        "\n",
        "corpus=[]\n",
        "for i in range(len(sentences)):\n",
        "  text=re.sub('[^a-zA-Z]',' ',sentences[i])\n",
        "  text=text.lower()\n",
        "  corpus.append(text)"
      ],
      "metadata": {
        "id": "3izLoLYQZZNC"
      },
      "execution_count": null,
      "outputs": []
    },
    {
      "cell_type": "code",
      "source": [
        "print(corpus)"
      ],
      "metadata": {
        "colab": {
          "base_uri": "https://localhost:8080/"
        },
        "id": "2M3lCgN6act9",
        "outputId": "3b67b3e4-ffd2-4d09-948a-bd7305550c37"
      },
      "execution_count": null,
      "outputs": [
        {
          "output_type": "stream",
          "name": "stdout",
          "text": [
            "[' avul pakir jainulabdeen abdul kalam was an indian aerospace scientist and statesman who served as the president of india from      to      ', 'born and raised in a muslim family in rameswaram  tamil nadu  kalam studied physics and aerospace engineering ', 'he spent the next four decades as a scientist and science administrator  mainly at the defence research and development organisation  drdo  and indian space research organisation  isro  and was intimately involved in india s civilian space programme and military missile development efforts ', 'he was known as the  missile man of india  for his work on the development of ballistic missile and launch vehicle technology ', 'he also played a pivotal organisational  technical  and political role in pokhran ii nuclear tests in       india s second such test after the first test in      ', 'kalam was elected as the president of india in      with the support of both the ruling bharatiya janata party and the then opposition indian national congress ', 'he was widely referred to as the  people s president  ', 'he engaged in teaching  writing and public service after his presidency ', 'he was a recipient of several awards  including the bharat ratna  india s highest civilian honour ', 'while delivering a lecture at iim shillong  kalam collapsed and died from an apparent cardiac arrest on    july       aged    ', 'thousands attended the funeral ceremony held in his hometown of rameswaram  where he was buried with full state honours ', 'a memorial was inaugurated near his home town in      ']\n"
          ]
        }
      ]
    },
    {
      "cell_type": "code",
      "source": [
        "import nltk\n",
        "nltk.download('stopwords')\n",
        "stop_words = set(stopwords.words('english')) # Define stop_words here\n",
        "\n",
        "for sentence in corpus:\n",
        "    words = nltk.word_tokenize(sentence)   #tokenize\n",
        "    for word in words:\n",
        "        if word.lower() not in stop_words:  # remove punctuation/numbers\n",
        "            print(stemmer.stem(word.lower()))"
      ],
      "metadata": {
        "colab": {
          "base_uri": "https://localhost:8080/"
        },
        "id": "JgBvYMMAaoHb",
        "outputId": "5aebdc36-1fa0-4111-fc9b-359706966541"
      },
      "execution_count": null,
      "outputs": [
        {
          "output_type": "stream",
          "name": "stdout",
          "text": [
            "avul\n",
            "pakir\n",
            "jainulabdeen\n",
            "abdul\n",
            "kalam\n",
            "indian\n",
            "aerospac\n",
            "scientist\n",
            "statesman\n",
            "serv\n",
            "presid\n",
            "india\n",
            "born\n",
            "rais\n",
            "muslim\n",
            "famili\n",
            "rameswaram\n",
            "tamil\n",
            "nadu\n",
            "kalam\n",
            "studi\n",
            "physic\n",
            "aerospac\n",
            "engin\n",
            "spent\n",
            "next\n",
            "four\n",
            "decad\n",
            "scientist\n",
            "scienc\n",
            "administr\n",
            "mainli\n",
            "defenc\n",
            "research\n",
            "develop\n",
            "organis\n",
            "drdo\n",
            "indian\n",
            "space\n",
            "research\n",
            "organis\n",
            "isro\n",
            "intim\n",
            "involv\n",
            "india\n",
            "civilian\n",
            "space\n",
            "programm\n",
            "militari\n",
            "missil\n",
            "develop\n",
            "effort\n",
            "known\n",
            "missil\n",
            "man\n",
            "india\n",
            "work\n",
            "develop\n",
            "ballist\n",
            "missil\n",
            "launch\n",
            "vehicl\n",
            "technolog\n",
            "also\n",
            "play\n",
            "pivot\n",
            "organis\n",
            "technic\n",
            "polit\n",
            "role\n",
            "pokhran\n",
            "ii\n",
            "nuclear\n",
            "test\n",
            "india\n",
            "second\n",
            "test\n",
            "first\n",
            "test\n",
            "kalam\n",
            "elect\n",
            "presid\n",
            "india\n",
            "support\n",
            "rule\n",
            "bharatiya\n",
            "janata\n",
            "parti\n",
            "opposit\n",
            "indian\n",
            "nation\n",
            "congress\n",
            "wide\n",
            "refer\n",
            "peopl\n",
            "presid\n",
            "engag\n",
            "teach\n",
            "write\n",
            "public\n",
            "servic\n",
            "presid\n",
            "recipi\n",
            "sever\n",
            "award\n",
            "includ\n",
            "bharat\n",
            "ratna\n",
            "india\n",
            "highest\n",
            "civilian\n",
            "honour\n",
            "deliv\n",
            "lectur\n",
            "iim\n",
            "shillong\n",
            "kalam\n",
            "collaps\n",
            "die\n",
            "appar\n",
            "cardiac\n",
            "arrest\n",
            "juli\n",
            "age\n",
            "thousand\n",
            "attend\n",
            "funer\n",
            "ceremoni\n",
            "held\n",
            "hometown\n",
            "rameswaram\n",
            "buri\n",
            "full\n",
            "state\n",
            "honour\n",
            "memori\n",
            "inaugur\n",
            "near\n",
            "home\n",
            "town\n"
          ]
        },
        {
          "output_type": "stream",
          "name": "stderr",
          "text": [
            "[nltk_data] Downloading package stopwords to /root/nltk_data...\n",
            "[nltk_data]   Unzipping corpora/stopwords.zip.\n"
          ]
        }
      ]
    },
    {
      "cell_type": "code",
      "source": [
        "\n",
        "for sentence in corpus:\n",
        "    words = nltk.word_tokenize(sentence)   #tokenize\n",
        "    for word in words:\n",
        "        if word.lower() not in stop_words:  # remove punctuation/numbers\n",
        "            print(lemmatizer.lemmatize(word.lower()))"
      ],
      "metadata": {
        "colab": {
          "base_uri": "https://localhost:8080/"
        },
        "id": "W2oTnVjzbFWE",
        "outputId": "06697545-e174-4853-9ca8-041a94949d97"
      },
      "execution_count": null,
      "outputs": [
        {
          "output_type": "stream",
          "name": "stdout",
          "text": [
            "avul\n",
            "pakir\n",
            "jainulabdeen\n",
            "abdul\n",
            "kalam\n",
            "indian\n",
            "aerospace\n",
            "scientist\n",
            "statesman\n",
            "served\n",
            "president\n",
            "india\n",
            "born\n",
            "raised\n",
            "muslim\n",
            "family\n",
            "rameswaram\n",
            "tamil\n",
            "nadu\n",
            "kalam\n",
            "studied\n",
            "physic\n",
            "aerospace\n",
            "engineering\n",
            "spent\n",
            "next\n",
            "four\n",
            "decade\n",
            "scientist\n",
            "science\n",
            "administrator\n",
            "mainly\n",
            "defence\n",
            "research\n",
            "development\n",
            "organisation\n",
            "drdo\n",
            "indian\n",
            "space\n",
            "research\n",
            "organisation\n",
            "isro\n",
            "intimately\n",
            "involved\n",
            "india\n",
            "civilian\n",
            "space\n",
            "programme\n",
            "military\n",
            "missile\n",
            "development\n",
            "effort\n",
            "known\n",
            "missile\n",
            "man\n",
            "india\n",
            "work\n",
            "development\n",
            "ballistic\n",
            "missile\n",
            "launch\n",
            "vehicle\n",
            "technology\n",
            "also\n",
            "played\n",
            "pivotal\n",
            "organisational\n",
            "technical\n",
            "political\n",
            "role\n",
            "pokhran\n",
            "ii\n",
            "nuclear\n",
            "test\n",
            "india\n",
            "second\n",
            "test\n",
            "first\n",
            "test\n",
            "kalam\n",
            "elected\n",
            "president\n",
            "india\n",
            "support\n",
            "ruling\n",
            "bharatiya\n",
            "janata\n",
            "party\n",
            "opposition\n",
            "indian\n",
            "national\n",
            "congress\n",
            "widely\n",
            "referred\n",
            "people\n",
            "president\n",
            "engaged\n",
            "teaching\n",
            "writing\n",
            "public\n",
            "service\n",
            "presidency\n",
            "recipient\n",
            "several\n",
            "award\n",
            "including\n",
            "bharat\n",
            "ratna\n",
            "india\n",
            "highest\n",
            "civilian\n",
            "honour\n",
            "delivering\n",
            "lecture\n",
            "iim\n",
            "shillong\n",
            "kalam\n",
            "collapsed\n",
            "died\n",
            "apparent\n",
            "cardiac\n",
            "arrest\n",
            "july\n",
            "aged\n",
            "thousand\n",
            "attended\n",
            "funeral\n",
            "ceremony\n",
            "held\n",
            "hometown\n",
            "rameswaram\n",
            "buried\n",
            "full\n",
            "state\n",
            "honour\n",
            "memorial\n",
            "inaugurated\n",
            "near\n",
            "home\n",
            "town\n"
          ]
        }
      ]
    },
    {
      "cell_type": "markdown",
      "source": [
        "# Bag of Words"
      ],
      "metadata": {
        "id": "CgwDmvAnc-iw"
      }
    },
    {
      "cell_type": "code",
      "source": [
        "## Apply stop words and lemmatization\n",
        "import re\n",
        "corpus=[]\n",
        "for i in range(len(sentences)):\n",
        "  text=re.sub('[^a-zA-Z]',' ',sentences[i]) # remove extra characters\n",
        "  text=text.lower()\n",
        "  text=text.split()\n",
        "  text=[lemmatizer.lemmatize(word) for word in text if word not in set(stopwords.words('english'))] # lematization for all words except stop words\n",
        "  text=' '.join(text)\n",
        "  corpus.append(text)"
      ],
      "metadata": {
        "id": "8rznFsJufZ7T"
      },
      "execution_count": null,
      "outputs": []
    },
    {
      "cell_type": "code",
      "source": [
        "from sklearn.feature_extraction.text import CountVectorizer"
      ],
      "metadata": {
        "id": "0wLJiSSHc0co"
      },
      "execution_count": null,
      "outputs": []
    },
    {
      "cell_type": "code",
      "source": [
        "cv=CountVectorizer(binary=True)"
      ],
      "metadata": {
        "id": "Oq0PLTAIdJmw"
      },
      "execution_count": null,
      "outputs": []
    },
    {
      "cell_type": "code",
      "source": [
        "X=cv.fit_transform(corpus).toarray()"
      ],
      "metadata": {
        "id": "k_XcdWhhdLmT"
      },
      "execution_count": null,
      "outputs": []
    },
    {
      "cell_type": "code",
      "source": [
        "X"
      ],
      "metadata": {
        "colab": {
          "base_uri": "https://localhost:8080/"
        },
        "id": "2euY43LKdP9t",
        "outputId": "fdc7cc0e-f932-44ea-f5ac-6ff97b5e286b"
      },
      "execution_count": null,
      "outputs": [
        {
          "output_type": "execute_result",
          "data": {
            "text/plain": [
              "array([[1, 0, 1, ..., 0, 0, 0],\n",
              "       [0, 0, 1, ..., 0, 0, 0],\n",
              "       [0, 1, 0, ..., 0, 0, 0],\n",
              "       ...,\n",
              "       [0, 0, 0, ..., 0, 0, 0],\n",
              "       [0, 0, 0, ..., 0, 0, 0],\n",
              "       [0, 0, 0, ..., 0, 0, 0]])"
            ]
          },
          "metadata": {},
          "execution_count": 27
        }
      ]
    },
    {
      "cell_type": "code",
      "source": [
        "X=cv.fit_transform(corpus)"
      ],
      "metadata": {
        "id": "0al8U1dFdQvn"
      },
      "execution_count": null,
      "outputs": []
    },
    {
      "cell_type": "code",
      "source": [
        "cv.vocabulary_ # dictionary containing word index mapping"
      ],
      "metadata": {
        "colab": {
          "base_uri": "https://localhost:8080/"
        },
        "id": "Q9O_DYo7dYAs",
        "outputId": "58043df6-18e1-4f9f-d5c7-2ae9bba79a1d"
      },
      "execution_count": null,
      "outputs": [
        {
          "output_type": "execute_result",
          "data": {
            "text/plain": [
              "{'avul': 8,\n",
              " 'pakir': 70,\n",
              " 'jainulabdeen': 49,\n",
              " 'abdul': 0,\n",
              " 'kalam': 52,\n",
              " 'indian': 45,\n",
              " 'aerospace': 2,\n",
              " 'scientist': 91,\n",
              " 'statesman': 100,\n",
              " 'served': 93,\n",
              " 'president': 79,\n",
              " 'india': 44,\n",
              " 'born': 13,\n",
              " 'raised': 82,\n",
              " 'muslim': 61,\n",
              " 'family': 30,\n",
              " 'rameswaram': 83,\n",
              " 'tamil': 103,\n",
              " 'nadu': 62,\n",
              " 'studied': 101,\n",
              " 'physic': 73,\n",
              " 'engineering': 29,\n",
              " 'spent': 98,\n",
              " 'next': 65,\n",
              " 'four': 32,\n",
              " 'decade': 20,\n",
              " 'science': 90,\n",
              " 'administrator': 1,\n",
              " 'mainly': 56,\n",
              " 'defence': 21,\n",
              " 'research': 87,\n",
              " 'development': 23,\n",
              " 'organisation': 68,\n",
              " 'drdo': 25,\n",
              " 'space': 97,\n",
              " 'isro': 48,\n",
              " 'intimately': 46,\n",
              " 'involved': 47,\n",
              " 'civilian': 17,\n",
              " 'programme': 80,\n",
              " 'military': 59,\n",
              " 'missile': 60,\n",
              " 'effort': 26,\n",
              " 'known': 53,\n",
              " 'man': 57,\n",
              " 'work': 112,\n",
              " 'ballistic': 10,\n",
              " 'launch': 54,\n",
              " 'vehicle': 110,\n",
              " 'technology': 106,\n",
              " 'also': 4,\n",
              " 'played': 75,\n",
              " 'pivotal': 74,\n",
              " 'organisational': 69,\n",
              " 'technical': 105,\n",
              " 'political': 77,\n",
              " 'role': 88,\n",
              " 'pokhran': 76,\n",
              " 'ii': 40,\n",
              " 'nuclear': 66,\n",
              " 'test': 107,\n",
              " 'second': 92,\n",
              " 'first': 31,\n",
              " 'elected': 27,\n",
              " 'support': 102,\n",
              " 'ruling': 89,\n",
              " 'bharatiya': 12,\n",
              " 'janata': 50,\n",
              " 'party': 71,\n",
              " 'opposition': 67,\n",
              " 'national': 63,\n",
              " 'congress': 19,\n",
              " 'widely': 111,\n",
              " 'referred': 86,\n",
              " 'people': 72,\n",
              " 'engaged': 28,\n",
              " 'teaching': 104,\n",
              " 'writing': 113,\n",
              " 'public': 81,\n",
              " 'service': 94,\n",
              " 'presidency': 78,\n",
              " 'recipient': 85,\n",
              " 'several': 95,\n",
              " 'award': 9,\n",
              " 'including': 43,\n",
              " 'bharat': 11,\n",
              " 'ratna': 84,\n",
              " 'highest': 36,\n",
              " 'honour': 39,\n",
              " 'delivering': 22,\n",
              " 'lecture': 55,\n",
              " 'iim': 41,\n",
              " 'shillong': 96,\n",
              " 'collapsed': 18,\n",
              " 'died': 24,\n",
              " 'apparent': 5,\n",
              " 'cardiac': 15,\n",
              " 'arrest': 6,\n",
              " 'july': 51,\n",
              " 'aged': 3,\n",
              " 'thousand': 108,\n",
              " 'attended': 7,\n",
              " 'funeral': 34,\n",
              " 'ceremony': 16,\n",
              " 'held': 35,\n",
              " 'hometown': 38,\n",
              " 'buried': 14,\n",
              " 'full': 33,\n",
              " 'state': 99,\n",
              " 'memorial': 58,\n",
              " 'inaugurated': 42,\n",
              " 'near': 64,\n",
              " 'home': 37,\n",
              " 'town': 109}"
            ]
          },
          "metadata": {},
          "execution_count": 29
        }
      ]
    },
    {
      "cell_type": "code",
      "source": [
        "corpus[3]"
      ],
      "metadata": {
        "colab": {
          "base_uri": "https://localhost:8080/",
          "height": 35
        },
        "id": "vSeRg-4bdbwo",
        "outputId": "f936a138-4195-429e-eae6-0adc2c9f8262"
      },
      "execution_count": null,
      "outputs": [
        {
          "output_type": "execute_result",
          "data": {
            "text/plain": [
              "'known missile man india work development ballistic missile launch vehicle technology'"
            ],
            "application/vnd.google.colaboratory.intrinsic+json": {
              "type": "string"
            }
          },
          "metadata": {},
          "execution_count": 30
        }
      ]
    },
    {
      "cell_type": "code",
      "source": [
        "X[3].toarray().shape"
      ],
      "metadata": {
        "colab": {
          "base_uri": "https://localhost:8080/"
        },
        "id": "DbZc3ErZdhGz",
        "outputId": "246e491c-d02b-4b38-cb23-4af4409c8d58"
      },
      "execution_count": null,
      "outputs": [
        {
          "output_type": "execute_result",
          "data": {
            "text/plain": [
              "(1, 114)"
            ]
          },
          "metadata": {},
          "execution_count": 31
        }
      ]
    },
    {
      "cell_type": "markdown",
      "source": [
        "## N-gram"
      ],
      "metadata": {
        "id": "TJUeERv6ic1E"
      }
    },
    {
      "cell_type": "code",
      "source": [
        "from sklearn.feature_extraction.text import CountVectorizer\n",
        "cv=CountVectorizer(binary=True,ngram_range=(3,3))"
      ],
      "metadata": {
        "id": "fXc1GijheoUr"
      },
      "execution_count": null,
      "outputs": []
    },
    {
      "cell_type": "code",
      "source": [
        "X=cv.fit_transform(corpus)"
      ],
      "metadata": {
        "id": "ZVcbxE_Pim_K"
      },
      "execution_count": null,
      "outputs": []
    },
    {
      "cell_type": "code",
      "source": [
        "cv.vocabulary_"
      ],
      "metadata": {
        "colab": {
          "base_uri": "https://localhost:8080/"
        },
        "id": "-aR5CFyfiv5h",
        "outputId": "380378b9-6984-4781-b335-092c0b706a9e"
      },
      "execution_count": null,
      "outputs": [
        {
          "output_type": "execute_result",
          "data": {
            "text/plain": [
              "{'avul pakir jainulabdeen': 7,\n",
              " 'pakir jainulabdeen abdul': 74,\n",
              " 'jainulabdeen abdul kalam': 49,\n",
              " 'abdul kalam indian': 0,\n",
              " 'kalam indian aerospace': 53,\n",
              " 'indian aerospace scientist': 43,\n",
              " 'aerospace scientist statesman': 2,\n",
              " 'scientist statesman served': 96,\n",
              " 'statesman served president': 104,\n",
              " 'served president india': 98,\n",
              " 'born raised muslim': 12,\n",
              " 'raised muslim family': 84,\n",
              " 'muslim family rameswaram': 65,\n",
              " 'family rameswaram tamil': 27,\n",
              " 'rameswaram tamil nadu': 86,\n",
              " 'tamil nadu kalam': 107,\n",
              " 'nadu kalam studied': 66,\n",
              " 'kalam studied physic': 54,\n",
              " 'studied physic aerospace': 105,\n",
              " 'physic aerospace engineering': 76,\n",
              " 'spent next four': 103,\n",
              " 'next four decade': 68,\n",
              " 'four decade scientist': 28,\n",
              " 'decade scientist science': 18,\n",
              " 'scientist science administrator': 95,\n",
              " 'science administrator mainly': 94,\n",
              " 'administrator mainly defence': 1,\n",
              " 'mainly defence research': 58,\n",
              " 'defence research development': 19,\n",
              " 'research development organisation': 90,\n",
              " 'development organisation drdo': 22,\n",
              " 'organisation drdo indian': 71,\n",
              " 'drdo indian space': 24,\n",
              " 'indian space research': 45,\n",
              " 'space research organisation': 102,\n",
              " 'research organisation isro': 91,\n",
              " 'organisation isro intimately': 72,\n",
              " 'isro intimately involved': 48,\n",
              " 'intimately involved india': 46,\n",
              " 'involved india civilian': 47,\n",
              " 'india civilian space': 38,\n",
              " 'civilian space programme': 16,\n",
              " 'space programme military': 101,\n",
              " 'programme military missile': 82,\n",
              " 'military missile development': 61,\n",
              " 'missile development effort': 62,\n",
              " 'known missile man': 55,\n",
              " 'missile man india': 64,\n",
              " 'man india work': 59,\n",
              " 'india work development': 42,\n",
              " 'work development ballistic': 114,\n",
              " 'development ballistic missile': 21,\n",
              " 'ballistic missile launch': 9,\n",
              " 'missile launch vehicle': 63,\n",
              " 'launch vehicle technology': 56,\n",
              " 'also played pivotal': 3,\n",
              " 'played pivotal organisational': 78,\n",
              " 'pivotal organisational technical': 77,\n",
              " 'organisational technical political': 73,\n",
              " 'technical political role': 109,\n",
              " 'political role pokhran': 80,\n",
              " 'role pokhran ii': 92,\n",
              " 'pokhran ii nuclear': 79,\n",
              " 'ii nuclear test': 34,\n",
              " 'nuclear test india': 69,\n",
              " 'test india second': 111,\n",
              " 'india second test': 40,\n",
              " 'second test first': 97,\n",
              " 'test first test': 110,\n",
              " 'kalam elected president': 52,\n",
              " 'elected president india': 25,\n",
              " 'president india support': 81,\n",
              " 'india support ruling': 41,\n",
              " 'support ruling bharatiya': 106,\n",
              " 'ruling bharatiya janata': 93,\n",
              " 'bharatiya janata party': 11,\n",
              " 'janata party opposition': 50,\n",
              " 'party opposition indian': 75,\n",
              " 'opposition indian national': 70,\n",
              " 'indian national congress': 44,\n",
              " 'widely referred people': 113,\n",
              " 'referred people president': 89,\n",
              " 'engaged teaching writing': 26,\n",
              " 'teaching writing public': 108,\n",
              " 'writing public service': 115,\n",
              " 'public service presidency': 83,\n",
              " 'recipient several award': 88,\n",
              " 'several award including': 99,\n",
              " 'award including bharat': 8,\n",
              " 'including bharat ratna': 37,\n",
              " 'bharat ratna india': 10,\n",
              " 'ratna india highest': 87,\n",
              " 'india highest civilian': 39,\n",
              " 'highest civilian honour': 32,\n",
              " 'delivering lecture iim': 20,\n",
              " 'lecture iim shillong': 57,\n",
              " 'iim shillong kalam': 35,\n",
              " 'shillong kalam collapsed': 100,\n",
              " 'kalam collapsed died': 51,\n",
              " 'collapsed died apparent': 17,\n",
              " 'died apparent cardiac': 23,\n",
              " 'apparent cardiac arrest': 4,\n",
              " 'cardiac arrest july': 14,\n",
              " 'arrest july aged': 5,\n",
              " 'thousand attended funeral': 112,\n",
              " 'attended funeral ceremony': 6,\n",
              " 'funeral ceremony held': 30,\n",
              " 'ceremony held hometown': 15,\n",
              " 'held hometown rameswaram': 31,\n",
              " 'hometown rameswaram buried': 33,\n",
              " 'rameswaram buried full': 85,\n",
              " 'buried full state': 13,\n",
              " 'full state honour': 29,\n",
              " 'memorial inaugurated near': 60,\n",
              " 'inaugurated near home': 36,\n",
              " 'near home town': 67}"
            ]
          },
          "metadata": {},
          "execution_count": 34
        }
      ]
    },
    {
      "cell_type": "code",
      "source": [
        "corpus[0]"
      ],
      "metadata": {
        "colab": {
          "base_uri": "https://localhost:8080/",
          "height": 35
        },
        "id": "lWEIqPnHi9O9",
        "outputId": "cd4c7edb-9dbb-49b7-b9a2-b75d72a0d896"
      },
      "execution_count": null,
      "outputs": [
        {
          "output_type": "execute_result",
          "data": {
            "text/plain": [
              "'avul pakir jainulabdeen abdul kalam indian aerospace scientist statesman served president india'"
            ],
            "application/vnd.google.colaboratory.intrinsic+json": {
              "type": "string"
            }
          },
          "metadata": {},
          "execution_count": 35
        }
      ]
    },
    {
      "cell_type": "code",
      "source": [
        "X[0].toarray()"
      ],
      "metadata": {
        "colab": {
          "base_uri": "https://localhost:8080/"
        },
        "id": "U0D1KYsBjAyE",
        "outputId": "f1855340-7f5d-4abe-ca75-cc8f4b771dcf"
      },
      "execution_count": null,
      "outputs": [
        {
          "output_type": "execute_result",
          "data": {
            "text/plain": [
              "array([[1, 0, 1, 0, 0, 0, 0, 1, 0, 0, 0, 0, 0, 0, 0, 0, 0, 0, 0, 0, 0, 0,\n",
              "        0, 0, 0, 0, 0, 0, 0, 0, 0, 0, 0, 0, 0, 0, 0, 0, 0, 0, 0, 0, 0, 1,\n",
              "        0, 0, 0, 0, 0, 1, 0, 0, 0, 1, 0, 0, 0, 0, 0, 0, 0, 0, 0, 0, 0, 0,\n",
              "        0, 0, 0, 0, 0, 0, 0, 0, 1, 0, 0, 0, 0, 0, 0, 0, 0, 0, 0, 0, 0, 0,\n",
              "        0, 0, 0, 0, 0, 0, 0, 0, 1, 0, 1, 0, 0, 0, 0, 0, 1, 0, 0, 0, 0, 0,\n",
              "        0, 0, 0, 0, 0, 0]])"
            ]
          },
          "metadata": {},
          "execution_count": 37
        }
      ]
    },
    {
      "cell_type": "markdown",
      "source": [
        "## TFIDF"
      ],
      "metadata": {
        "id": "wYzQiuGZjUYA"
      }
    },
    {
      "cell_type": "code",
      "source": [
        "from sklearn.feature_extraction.text import TfidfVectorizer\n",
        "cv=TfidfVectorizer(ngram_range=(3,3), max_features=3)\n",
        "X=cv.fit_transform(corpus)"
      ],
      "metadata": {
        "id": "7VIGZX8JjEMk"
      },
      "execution_count": null,
      "outputs": []
    },
    {
      "cell_type": "code",
      "source": [
        "corpus[0]"
      ],
      "metadata": {
        "colab": {
          "base_uri": "https://localhost:8080/",
          "height": 35
        },
        "id": "PBBjS2V3jY13",
        "outputId": "a78fa938-9ba7-4f62-fd6e-af2a3525999d"
      },
      "execution_count": null,
      "outputs": [
        {
          "output_type": "execute_result",
          "data": {
            "text/plain": [
              "'avul pakir jainulabdeen abdul kalam indian aerospace scientist statesman served president india'"
            ],
            "application/vnd.google.colaboratory.intrinsic+json": {
              "type": "string"
            }
          },
          "metadata": {},
          "execution_count": 51
        }
      ]
    },
    {
      "cell_type": "code",
      "source": [
        "X[0].toarray()"
      ],
      "metadata": {
        "colab": {
          "base_uri": "https://localhost:8080/"
        },
        "id": "K0hrhC_ojiJK",
        "outputId": "52162498-4ad4-48fd-c2bc-1c39d85864d5"
      },
      "execution_count": null,
      "outputs": [
        {
          "output_type": "execute_result",
          "data": {
            "text/plain": [
              "array([[0.70710678, 0.        , 0.70710678]])"
            ]
          },
          "metadata": {},
          "execution_count": 52
        }
      ]
    },
    {
      "cell_type": "markdown",
      "source": [
        "##Word2vec"
      ],
      "metadata": {
        "id": "nC1osxh6Bjdd"
      }
    },
    {
      "cell_type": "code",
      "source": [
        "!pip install gensim"
      ],
      "metadata": {
        "colab": {
          "base_uri": "https://localhost:8080/",
          "height": 671
        },
        "id": "4KI2UDbFBicX",
        "outputId": "023955a4-51f6-41c5-bf53-d72973567c57"
      },
      "execution_count": null,
      "outputs": [
        {
          "output_type": "stream",
          "name": "stdout",
          "text": [
            "Collecting gensim\n",
            "  Downloading gensim-4.3.3-cp311-cp311-manylinux_2_17_x86_64.manylinux2014_x86_64.whl.metadata (8.1 kB)\n",
            "Collecting numpy<2.0,>=1.18.5 (from gensim)\n",
            "  Downloading numpy-1.26.4-cp311-cp311-manylinux_2_17_x86_64.manylinux2014_x86_64.whl.metadata (61 kB)\n",
            "\u001b[2K     \u001b[90m━━━━━━━━━━━━━━━━━━━━━━━━━━━━━━━━━━━━━━━━\u001b[0m \u001b[32m61.0/61.0 kB\u001b[0m \u001b[31m5.3 MB/s\u001b[0m eta \u001b[36m0:00:00\u001b[0m\n",
            "\u001b[?25hCollecting scipy<1.14.0,>=1.7.0 (from gensim)\n",
            "  Downloading scipy-1.13.1-cp311-cp311-manylinux_2_17_x86_64.manylinux2014_x86_64.whl.metadata (60 kB)\n",
            "\u001b[2K     \u001b[90m━━━━━━━━━━━━━━━━━━━━━━━━━━━━━━━━━━━━━━━━\u001b[0m \u001b[32m60.6/60.6 kB\u001b[0m \u001b[31m5.4 MB/s\u001b[0m eta \u001b[36m0:00:00\u001b[0m\n",
            "\u001b[?25hRequirement already satisfied: smart-open>=1.8.1 in /usr/local/lib/python3.11/dist-packages (from gensim) (7.3.0.post1)\n",
            "Requirement already satisfied: wrapt in /usr/local/lib/python3.11/dist-packages (from smart-open>=1.8.1->gensim) (1.17.2)\n",
            "Downloading gensim-4.3.3-cp311-cp311-manylinux_2_17_x86_64.manylinux2014_x86_64.whl (26.7 MB)\n",
            "\u001b[2K   \u001b[90m━━━━━━━━━━━━━━━━━━━━━━━━━━━━━━━━━━━━━━━━\u001b[0m \u001b[32m26.7/26.7 MB\u001b[0m \u001b[31m72.6 MB/s\u001b[0m eta \u001b[36m0:00:00\u001b[0m\n",
            "\u001b[?25hDownloading numpy-1.26.4-cp311-cp311-manylinux_2_17_x86_64.manylinux2014_x86_64.whl (18.3 MB)\n",
            "\u001b[2K   \u001b[90m━━━━━━━━━━━━━━━━━━━━━━━━━━━━━━━━━━━━━━━━\u001b[0m \u001b[32m18.3/18.3 MB\u001b[0m \u001b[31m86.7 MB/s\u001b[0m eta \u001b[36m0:00:00\u001b[0m\n",
            "\u001b[?25hDownloading scipy-1.13.1-cp311-cp311-manylinux_2_17_x86_64.manylinux2014_x86_64.whl (38.6 MB)\n",
            "\u001b[2K   \u001b[90m━━━━━━━━━━━━━━━━━━━━━━━━━━━━━━━━━━━━━━━━\u001b[0m \u001b[32m38.6/38.6 MB\u001b[0m \u001b[31m14.6 MB/s\u001b[0m eta \u001b[36m0:00:00\u001b[0m\n",
            "\u001b[?25hInstalling collected packages: numpy, scipy, gensim\n",
            "  Attempting uninstall: numpy\n",
            "    Found existing installation: numpy 2.0.2\n",
            "    Uninstalling numpy-2.0.2:\n",
            "      Successfully uninstalled numpy-2.0.2\n",
            "  Attempting uninstall: scipy\n",
            "    Found existing installation: scipy 1.15.3\n",
            "    Uninstalling scipy-1.15.3:\n",
            "      Successfully uninstalled scipy-1.15.3\n",
            "\u001b[31mERROR: pip's dependency resolver does not currently take into account all the packages that are installed. This behaviour is the source of the following dependency conflicts.\n",
            "opencv-python-headless 4.12.0.88 requires numpy<2.3.0,>=2; python_version >= \"3.9\", but you have numpy 1.26.4 which is incompatible.\n",
            "tsfresh 0.21.0 requires scipy>=1.14.0; python_version >= \"3.10\", but you have scipy 1.13.1 which is incompatible.\n",
            "thinc 8.3.6 requires numpy<3.0.0,>=2.0.0, but you have numpy 1.26.4 which is incompatible.\u001b[0m\u001b[31m\n",
            "\u001b[0mSuccessfully installed gensim-4.3.3 numpy-1.26.4 scipy-1.13.1\n"
          ]
        },
        {
          "output_type": "display_data",
          "data": {
            "application/vnd.colab-display-data+json": {
              "pip_warning": {
                "packages": [
                  "numpy"
                ]
              },
              "id": "7b7e2041efab4763ba20e5e03b4cdfdb"
            }
          },
          "metadata": {}
        }
      ]
    },
    {
      "cell_type": "code",
      "source": [
        "from gensim.models import Word2Vec,KeyedVectors\n",
        "import gensim.downloader as api # Import gensim.downloader\n",
        "\n",
        "wv = api.load('word2vec-google-news-300')"
      ],
      "metadata": {
        "id": "EDUMG6wLjlH4",
        "colab": {
          "base_uri": "https://localhost:8080/"
        },
        "outputId": "07b8ca7b-cdb3-4377-c3fd-72fbc4b84f87"
      },
      "execution_count": null,
      "outputs": [
        {
          "output_type": "stream",
          "name": "stdout",
          "text": [
            "[==================================================] 100.0% 1662.8/1662.8MB downloaded\n"
          ]
        }
      ]
    },
    {
      "cell_type": "code",
      "source": [
        "vec_king=wv['king']"
      ],
      "metadata": {
        "id": "4WSrBJJfBYhH"
      },
      "execution_count": null,
      "outputs": []
    },
    {
      "cell_type": "code",
      "source": [
        "wv.most_similar('man')"
      ],
      "metadata": {
        "colab": {
          "base_uri": "https://localhost:8080/"
        },
        "id": "RszS11B9CQ-I",
        "outputId": "d2f82940-9f9f-45ce-fd36-b555d598fe1d"
      },
      "execution_count": null,
      "outputs": [
        {
          "output_type": "execute_result",
          "data": {
            "text/plain": [
              "array([ 1.25976562e-01,  2.97851562e-02,  8.60595703e-03,  1.39648438e-01,\n",
              "       -2.56347656e-02, -3.61328125e-02,  1.11816406e-01, -1.98242188e-01,\n",
              "        5.12695312e-02,  3.63281250e-01, -2.42187500e-01, -3.02734375e-01,\n",
              "       -1.77734375e-01, -2.49023438e-02, -1.67968750e-01, -1.69921875e-01,\n",
              "        3.46679688e-02,  5.21850586e-03,  4.63867188e-02,  1.28906250e-01,\n",
              "        1.36718750e-01,  1.12792969e-01,  5.95703125e-02,  1.36718750e-01,\n",
              "        1.01074219e-01, -1.76757812e-01, -2.51953125e-01,  5.98144531e-02,\n",
              "        3.41796875e-01, -3.11279297e-02,  1.04492188e-01,  6.17675781e-02,\n",
              "        1.24511719e-01,  4.00390625e-01, -3.22265625e-01,  8.39843750e-02,\n",
              "        3.90625000e-02,  5.85937500e-03,  7.03125000e-02,  1.72851562e-01,\n",
              "        1.38671875e-01, -2.31445312e-01,  2.83203125e-01,  1.42578125e-01,\n",
              "        3.41796875e-01, -2.39257812e-02, -1.09863281e-01,  3.32031250e-02,\n",
              "       -5.46875000e-02,  1.53198242e-02, -1.62109375e-01,  1.58203125e-01,\n",
              "       -2.59765625e-01,  2.01416016e-02, -1.63085938e-01,  1.35803223e-03,\n",
              "       -1.44531250e-01, -5.68847656e-02,  4.29687500e-02, -2.46582031e-02,\n",
              "        1.85546875e-01,  4.47265625e-01,  9.58251953e-03,  1.31835938e-01,\n",
              "        9.86328125e-02, -1.85546875e-01, -1.00097656e-01, -1.33789062e-01,\n",
              "       -1.25000000e-01,  2.83203125e-01,  1.23046875e-01,  5.32226562e-02,\n",
              "       -1.77734375e-01,  8.59375000e-02, -2.18505859e-02,  2.05078125e-02,\n",
              "       -1.39648438e-01,  2.51464844e-02,  1.38671875e-01, -1.05468750e-01,\n",
              "        1.38671875e-01,  8.88671875e-02, -7.51953125e-02, -2.13623047e-02,\n",
              "        1.72851562e-01,  4.63867188e-02, -2.65625000e-01,  8.91113281e-03,\n",
              "        1.49414062e-01,  3.78417969e-02,  2.38281250e-01, -1.24511719e-01,\n",
              "       -2.17773438e-01, -1.81640625e-01,  2.97851562e-02,  5.71289062e-02,\n",
              "       -2.89306641e-02,  1.24511719e-02,  9.66796875e-02, -2.31445312e-01,\n",
              "        5.81054688e-02,  6.68945312e-02,  7.08007812e-02, -3.08593750e-01,\n",
              "       -2.14843750e-01,  1.45507812e-01, -4.27734375e-01, -9.39941406e-03,\n",
              "        1.54296875e-01, -7.66601562e-02,  2.89062500e-01,  2.77343750e-01,\n",
              "       -4.86373901e-04, -1.36718750e-01,  3.24218750e-01, -2.46093750e-01,\n",
              "       -3.03649902e-03, -2.11914062e-01,  1.25000000e-01,  2.69531250e-01,\n",
              "        2.04101562e-01,  8.25195312e-02, -2.01171875e-01, -1.60156250e-01,\n",
              "       -3.78417969e-02, -1.20117188e-01,  1.15234375e-01, -4.10156250e-02,\n",
              "       -3.95507812e-02, -8.98437500e-02,  6.34765625e-03,  2.03125000e-01,\n",
              "        1.86523438e-01,  2.73437500e-01,  6.29882812e-02,  1.41601562e-01,\n",
              "       -9.81445312e-02,  1.38671875e-01,  1.82617188e-01,  1.73828125e-01,\n",
              "        1.73828125e-01, -2.37304688e-01,  1.78710938e-01,  6.34765625e-02,\n",
              "        2.36328125e-01, -2.08984375e-01,  8.74023438e-02, -1.66015625e-01,\n",
              "       -7.91015625e-02,  2.43164062e-01, -8.88671875e-02,  1.26953125e-01,\n",
              "       -2.16796875e-01, -1.73828125e-01, -3.59375000e-01, -8.25195312e-02,\n",
              "       -6.49414062e-02,  5.07812500e-02,  1.35742188e-01, -7.47070312e-02,\n",
              "       -1.64062500e-01,  1.15356445e-02,  4.45312500e-01, -2.15820312e-01,\n",
              "       -1.11328125e-01, -1.92382812e-01,  1.70898438e-01, -1.25000000e-01,\n",
              "        2.65502930e-03,  1.92382812e-01, -1.74804688e-01,  1.39648438e-01,\n",
              "        2.92968750e-01,  1.13281250e-01,  5.95703125e-02, -6.39648438e-02,\n",
              "        9.96093750e-02, -2.72216797e-02,  1.96533203e-02,  4.27246094e-02,\n",
              "       -2.46093750e-01,  6.39648438e-02, -2.25585938e-01, -1.68945312e-01,\n",
              "        2.89916992e-03,  8.20312500e-02,  3.41796875e-01,  4.32128906e-02,\n",
              "        1.32812500e-01,  1.42578125e-01,  7.61718750e-02,  5.98144531e-02,\n",
              "       -1.19140625e-01,  2.74658203e-03, -6.29882812e-02, -2.72216797e-02,\n",
              "       -4.82177734e-03, -8.20312500e-02, -2.49023438e-02, -4.00390625e-01,\n",
              "       -1.06933594e-01,  4.24804688e-02,  7.76367188e-02, -1.16699219e-01,\n",
              "        7.37304688e-02, -9.22851562e-02,  1.07910156e-01,  1.58203125e-01,\n",
              "        4.24804688e-02,  1.26953125e-01,  3.61328125e-02,  2.67578125e-01,\n",
              "       -1.01074219e-01, -3.02734375e-01, -5.76171875e-02,  5.05371094e-02,\n",
              "        5.26428223e-04, -2.07031250e-01, -1.38671875e-01, -8.97216797e-03,\n",
              "       -2.78320312e-02, -1.41601562e-01,  2.07031250e-01, -1.58203125e-01,\n",
              "        1.27929688e-01,  1.49414062e-01, -2.24609375e-02, -8.44726562e-02,\n",
              "        1.22558594e-01,  2.15820312e-01, -2.13867188e-01, -3.12500000e-01,\n",
              "       -3.73046875e-01,  4.08935547e-03,  1.07421875e-01,  1.06933594e-01,\n",
              "        7.32421875e-02,  8.97216797e-03, -3.88183594e-02, -1.29882812e-01,\n",
              "        1.49414062e-01, -2.14843750e-01, -1.83868408e-03,  9.91210938e-02,\n",
              "        1.57226562e-01, -1.14257812e-01, -2.05078125e-01,  9.91210938e-02,\n",
              "        3.69140625e-01, -1.97265625e-01,  3.54003906e-02,  1.09375000e-01,\n",
              "        1.31835938e-01,  1.66992188e-01,  2.35351562e-01,  1.04980469e-01,\n",
              "       -4.96093750e-01, -1.64062500e-01, -1.56250000e-01, -5.22460938e-02,\n",
              "        1.03027344e-01,  2.43164062e-01, -1.88476562e-01,  5.07812500e-02,\n",
              "       -9.37500000e-02, -6.68945312e-02,  2.27050781e-02,  7.61718750e-02,\n",
              "        2.89062500e-01,  3.10546875e-01, -5.37109375e-02,  2.28515625e-01,\n",
              "        2.51464844e-02,  6.78710938e-02, -1.21093750e-01, -2.15820312e-01,\n",
              "       -2.73437500e-01, -3.07617188e-02, -3.37890625e-01,  1.53320312e-01,\n",
              "        2.33398438e-01, -2.08007812e-01,  3.73046875e-01,  8.20312500e-02,\n",
              "        2.51953125e-01, -7.61718750e-02, -4.66308594e-02, -2.23388672e-02,\n",
              "        2.99072266e-02, -5.93261719e-02, -4.66918945e-03, -2.44140625e-01,\n",
              "       -2.09960938e-01, -2.87109375e-01, -4.54101562e-02, -1.77734375e-01,\n",
              "       -2.79296875e-01, -8.59375000e-02,  9.13085938e-02,  2.51953125e-01],\n",
              "      dtype=float32)"
            ]
          },
          "metadata": {},
          "execution_count": 8
        }
      ]
    },
    {
      "cell_type": "code",
      "source": [
        "wv.similarity('html','programmer')"
      ],
      "metadata": {
        "colab": {
          "base_uri": "https://localhost:8080/"
        },
        "id": "l263AFPbCWbK",
        "outputId": "90c25b4f-74c8-40f2-f392-267226c33302"
      },
      "execution_count": null,
      "outputs": [
        {
          "output_type": "execute_result",
          "data": {
            "text/plain": [
              "0.25811526"
            ]
          },
          "metadata": {},
          "execution_count": 10
        }
      ]
    },
    {
      "cell_type": "code",
      "source": [
        "wv.similarity('king','man')"
      ],
      "metadata": {
        "colab": {
          "base_uri": "https://localhost:8080/"
        },
        "id": "y0dLoPGbDiVi",
        "outputId": "b46480ae-de9a-4c40-d0f4-2f5e58aea166"
      },
      "execution_count": null,
      "outputs": [
        {
          "output_type": "execute_result",
          "data": {
            "text/plain": [
              "0.22942673"
            ]
          },
          "metadata": {},
          "execution_count": 12
        }
      ]
    },
    {
      "cell_type": "code",
      "source": [
        "wv.most_similar('man')"
      ],
      "metadata": {
        "colab": {
          "base_uri": "https://localhost:8080/"
        },
        "id": "Sje-vJKhDzXB",
        "outputId": "a4337047-be8a-49d5-9b0c-dc47a3c8fea3"
      },
      "execution_count": null,
      "outputs": [
        {
          "output_type": "execute_result",
          "data": {
            "text/plain": [
              "[('woman', 0.7664012908935547),\n",
              " ('boy', 0.6824871301651001),\n",
              " ('teenager', 0.6586930155754089),\n",
              " ('teenage_girl', 0.6147903203964233),\n",
              " ('girl', 0.5921714305877686),\n",
              " ('suspected_purse_snatcher', 0.571636438369751),\n",
              " ('robber', 0.5585119128227234),\n",
              " ('Robbery_suspect', 0.5584409832954407),\n",
              " ('teen_ager', 0.5549196600914001),\n",
              " ('men', 0.5489763021469116)]"
            ]
          },
          "metadata": {},
          "execution_count": 13
        }
      ]
    }
  ]
}